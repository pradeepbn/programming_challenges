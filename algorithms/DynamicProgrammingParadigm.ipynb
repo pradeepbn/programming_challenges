{
 "cells": [
  {
   "cell_type": "code",
   "execution_count": 13,
   "metadata": {},
   "outputs": [
    {
     "name": "stdout",
     "output_type": "stream",
     "text": [
      "380\n"
     ]
    }
   ],
   "source": [
    "'''Weighted interval schedule\n",
    "Input: Number of Jobs n = 4\n",
    "       Job Details {Start Time, Finish Time, Profit}\n",
    "       Job 1:  {1, 2, 50} \n",
    "       Job 2:  {3, 5, 20}\n",
    "       Job 3:  {6, 19, 100}\n",
    "       Job 4:  {2, 100, 200}\n",
    "       This gives a the max sum of weights of the continuous jobs \n",
    "       '''\n",
    "\n",
    "jobs = [{1, 2, 50}, {3, 5, 230}, {6, 19, 100}, {2, 100, 200}]\n",
    "v = [50, 230, 100, 200]\n",
    "N = len(v)\n",
    "p = [0] * N\n",
    "p[0] = 0\n",
    "p[1] = 0\n",
    "p[2] = 1\n",
    "p[3] = 0\n",
    "M = [0] * N\n",
    "\n",
    "def WeightedInterval():\n",
    "    global p\n",
    "    global M\n",
    "    for i in range(N):\n",
    "        M[i] = max(v[i] + M[p[i]], M[i - 1])\n",
    "WeightedInterval()\n",
    "print(M[3])"
   ]
  }
 ],
 "metadata": {
  "kernelspec": {
   "display_name": "cnn",
   "language": "python",
   "name": "cnn"
  },
  "language_info": {
   "codemirror_mode": {
    "name": "ipython",
    "version": 3
   },
   "file_extension": ".py",
   "mimetype": "text/x-python",
   "name": "python",
   "nbconvert_exporter": "python",
   "pygments_lexer": "ipython3",
   "version": "3.6.4"
  }
 },
 "nbformat": 4,
 "nbformat_minor": 2
}
