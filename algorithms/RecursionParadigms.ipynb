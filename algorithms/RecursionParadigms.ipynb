{
 "cells": [
  {
   "cell_type": "code",
   "execution_count": 4,
   "metadata": {},
   "outputs": [
    {
     "name": "stdout",
     "output_type": "stream",
     "text": [
      "['1', '1', '1', '1']\n",
      "['1', '1', '1', '0']\n",
      "['1', '1', '0', '1']\n",
      "['1', '1', '0', '0']\n",
      "['1', '0', '1', '1']\n",
      "['1', '0', '1', '0']\n",
      "['1', '0', '0', '1']\n",
      "['1', '0', '0', '0']\n",
      "['0', '1', '1', '1']\n",
      "['0', '1', '1', '0']\n",
      "['0', '1', '0', '1']\n",
      "['0', '1', '0', '0']\n",
      "['0', '0', '1', '1']\n",
      "['0', '0', '1', '0']\n",
      "['0', '0', '0', '1']\n",
      "['0', '0', '0', '0']\n"
     ]
    }
   ],
   "source": [
    "a = list('0000')\n",
    "N = 4\n",
    "def enumerate(k):\n",
    "#     print(k)\n",
    "    if k == N:\n",
    "        #process()\n",
    "        print(a)\n",
    "        return\n",
    "    a[k] = '1'\n",
    "    enumerate(k + 1)\n",
    "    a[k] = '0'\n",
    "    enumerate(k + 1)\n",
    "    \n",
    "enumerate(0)\n",
    "    "
   ]
  },
  {
   "cell_type": "markdown",
   "metadata": {},
   "source": [
    "## N queens Problem"
   ]
  },
  {
   "cell_type": "code",
   "execution_count": null,
   "metadata": {},
   "outputs": [],
   "source": [
    "# a = [1, 2, 3, 4, 5, 6, 7]\n",
    "# a = [1, 2, 3, 4, 0]\n",
    "a = [1,2,3,4,5, 6, 7, 8, 9, 10, 11]\n",
    "def swap(a, i, k):\n",
    "    c, d = a[i], a[k]\n",
    "    a[k] = c\n",
    "    a[i] = d\n",
    "N = len(a)\n",
    "count = 0\n",
    "def enumeratePermutate(k):\n",
    "    global count\n",
    "    def canBacktrack():\n",
    "        for i in range(0, k):\n",
    "            '''Think on this like a growing pyramid and\n",
    "            anything that is on the diagonal (k - i) has to be eliminated'''\n",
    "            if (abs(a[i] - a[k]) == (k - i)):\n",
    "                return True\n",
    "        return False\n",
    "    if k == N:\n",
    "        (count) = (count) + 1\n",
    "        return\n",
    "    for i in range(k, N):\n",
    "        swap(a, i, k)\n",
    "        if (canBacktrack() is not True):\n",
    "            enumeratePermutate(k + 1)\n",
    "        swap(a, i, k)\n",
    "        \n",
    "enumeratePermutate(0)\n",
    "print(count)\n"
   ]
  },
  {
   "cell_type": "code",
   "execution_count": 133,
   "metadata": {},
   "outputs": [
    {
     "name": "stdout",
     "output_type": "stream",
     "text": [
      "\n",
      "[0, 0, 0]\n",
      "[0, 0, 1]\n",
      "[0, 1, 0]\n",
      "[0, 1, 1]\n",
      "[1, 0, 0]\n",
      "[1, 0, 1]\n",
      "[1, 1, 0]\n",
      "[1, 1, 1]\n"
     ]
    }
   ],
   "source": [
    "'''counting N-digit base-R numbers,\n",
    "    with currying'''\n",
    "import numpy as np\n",
    "# N = 2\n",
    "# R = 4\n",
    "# a = [0] * N\n",
    "def countDigits(N):\n",
    "    k = 0\n",
    "    a = [0] * N\n",
    "    def enumerateDigits(k, R):\n",
    "        global count\n",
    "        if k == N:\n",
    "            print(a)\n",
    "            return\n",
    "        for i in range(R):\n",
    "            a[k] = i\n",
    "            enumerateDigits(k + 1, R)\n",
    "    countToBase = lambda R: enumerateDigits(0, R)\n",
    "    return countToBase\n",
    "        \n",
    "countTwoDigitsWithBase = countDigits(2)\n",
    "countThreeDigitsWithBase = countDigits(3)\n",
    "# countTwoDigitsWithBase(3)\n",
    "# print('')\n",
    "# countTwoDigitsWithBase(4)\n",
    "print('')\n",
    "# countThreeDigitsWithBase(3)\n",
    "countDigits(3)(2)\n"
   ]
  },
  {
   "cell_type": "code",
   "execution_count": 244,
   "metadata": {},
   "outputs": [
    {
     "name": "stdout",
     "output_type": "stream",
     "text": [
      "[[ 7.  0.  8.  0.  0.  0.  3.  0.  0.]\n",
      " [ 0.  0.  0.  2.  0.  1.  0.  0.  0.]\n",
      " [ 5.  0.  0.  0.  0.  0.  0.  0.  0.]\n",
      " [ 0.  4.  0.  0.  0.  0.  0.  2.  6.]\n",
      " [ 3.  0.  0.  0.  8.  0.  0.  0.  0.]\n",
      " [ 0.  0.  0.  1.  0.  0.  0.  9.  0.]\n",
      " [ 0.  9.  0.  6.  0.  0.  0.  0.  4.]\n",
      " [ 0.  0.  0.  0.  7.  0.  5.  0.  0.]\n",
      " [ 0.  0.  0.  0.  0.  0.  0.  0.  0.]]\n"
     ]
    }
   ],
   "source": [
    "'''sudoku solver'''\n",
    "# board = np.zeros((9,9))\n",
    "def resetBoard():\n",
    "    board = np.zeros((9,9))\n",
    "    board[0][0] = 7\n",
    "    board[0][2] = 8\n",
    "    board[0][6] = 3\n",
    "    board[1][3] = 2\n",
    "    board[1][5] = 1\n",
    "    board[2][0] = 5\n",
    "    board[3][1] = 4\n",
    "    board[3][7] = 2\n",
    "    board[3][8] = 6\n",
    "    board[4][0] = 3\n",
    "    board[4][4] = 8\n",
    "    board[5][3] = 1\n",
    "    board[5][7] = 9\n",
    "    board[6][1] = 9\n",
    "    board[6][3] = 6\n",
    "    board[6][8] = 4\n",
    "    board[7][4] = 7\n",
    "    board[7][6] = 5\n",
    "    return board\n",
    "\n",
    "print(resetBoard())"
   ]
  },
  {
   "cell_type": "code",
   "execution_count": 341,
   "metadata": {},
   "outputs": [],
   "source": [
    "import math\n",
    "def boxNumber(k):\n",
    "    section = math.floor((k)/ 27)\n",
    "    boxWithinSection = math.ceil(((k + 10e-7) % 9)/ 3)\n",
    "    return section * 3 + boxWithinSection\n",
    "StartLocationOfBox = lambda box: math.floor(box/3) * 27 + (box % 3) * 3\n",
    "def canBackTrack(a, k):\n",
    "    if a[k] == 0:\n",
    "        return True\n",
    "    #Find if the number exists in the same row\n",
    "    row = math.floor(k / 9)\n",
    "    for i in range(9):\n",
    "        if k == (row * 9 + i):\n",
    "            continue\n",
    "        if a[k] == a[row * 9 + i] and a[k] != 0:\n",
    "            return True\n",
    "    #Find if the number exists in the same column\n",
    "    col = k % 9\n",
    "    for i in range(9):\n",
    "        if k == (i * 9 + col):\n",
    "            continue\n",
    "        if a[k] == a[i * 9 + col] and a[k] != 0:\n",
    "            return True\n",
    "        \n",
    "    #Find is the number exists in within the same box\n",
    "    box = boxNumber(k)\n",
    "    boxStart = StartLocationOfBox(box - 1)\n",
    "    for i in range(boxStart, boxStart + 3):\n",
    "        for j in range(3):\n",
    "            if k == i + j * 9:\n",
    "                continue\n",
    "            if a[k] == a[i + j * 9] and a[k] != 0:\n",
    "                return True\n",
    "    return False\n",
    "\n",
    "# print(boxNumber(80))\n",
    "# print(StartLocationOfBox(0))"
   ]
  },
  {
   "cell_type": "code",
   "execution_count": null,
   "metadata": {},
   "outputs": [],
   "source": [
    "board = resetBoard()\n",
    "a = np.reshape(board, -1)\n",
    "idx = np.where(a > 0)[0]\n",
    "def enumerateSudoku(k):\n",
    "    if k == 81:\n",
    "        print(np.reshape(a,(9,9)))\n",
    "        return\n",
    "    for i in range(1, 10):\n",
    "        if k in idx:\n",
    "            enumerateSudoku(k + 1)\n",
    "            break\n",
    "        else:\n",
    "            a[k] = i\n",
    "            if (canBackTrack(a, k) is False):\n",
    "                enumerateSudoku(k + 1)\n",
    "            a[k] = 0\n",
    "enumerateSudoku(0)"
   ]
  },
  {
   "cell_type": "code",
   "execution_count": 402,
   "metadata": {},
   "outputs": [
    {
     "name": "stdout",
     "output_type": "stream",
     "text": [
      "[0, 0, 0]\n",
      "[0, 0, 1]\n",
      "[0, 1, 1]\n",
      "[0, 1, 0]\n",
      "[1, 1, 0]\n",
      "[1, 1, 1]\n",
      "[1, 0, 1]\n",
      "[1, 0, 0]\n"
     ]
    }
   ],
   "source": [
    "'''Enumerate binary digits'''\n",
    "import copy\n",
    "N = 3\n",
    "a = [0] * N  \n",
    "def enumerateBinary(k):\n",
    "    if k == N:\n",
    "        print(a)\n",
    "        return\n",
    "    enumerateBinary(k + 1)\n",
    "    a[k] = 1 - a[k]\n",
    "    enumerateBinary(k + 1)\n",
    "\n",
    "enumerateBinary(0)"
   ]
  },
  {
   "cell_type": "code",
   "execution_count": 420,
   "metadata": {},
   "outputs": [
    {
     "name": "stdout",
     "output_type": "stream",
     "text": [
      "Best allocation: [0, 0, 0, 0, 1, 1]\n"
     ]
    }
   ],
   "source": [
    "'''load balance jobs based on finish times'''\n",
    "import sys\n",
    "jobs = [1.41, 1.73, 2.0, 2.23, 1.2, 6.0]\n",
    "N = len(jobs)\n",
    "a = [0] * N\n",
    "bestAllocation = [0] * N\n",
    "bestSpan = sys.maxsize\n",
    "def calcSpan(a, id):\n",
    "    span = 0\n",
    "    for i in range(N):\n",
    "        if a[i] == id:\n",
    "            span += jobs[i]            \n",
    "    return span\n",
    "\n",
    "makeSpan = lambda a: abs(calcSpan(a, 0) - calcSpan(a, 1))\n",
    "\n",
    "def canBacktrackJobs(a) -> bool:\n",
    "    currentSpan =  makeSpan(a)\n",
    "    if currentSpan > bestSpan:\n",
    "        return True\n",
    "    return False\n",
    "    \n",
    "def enumerateJobs(k):\n",
    "    global bestSpan\n",
    "    global bestAllocation\n",
    "    if k == N:\n",
    "        totalSpan = makeSpan(a)\n",
    "        if totalSpan < bestSpan:\n",
    "            bestSpan = totalSpan\n",
    "            bestAllocation = copy.deepcopy(a)\n",
    "        return\n",
    "    if canBacktrackJobs(a):\n",
    "        return\n",
    "    enumerateJobs(k + 1)\n",
    "    a[k] = 1 - a[k]\n",
    "    enumerateJobs(k + 1)\n",
    "    \n",
    "enumerateJobs(0)\n",
    "print('Best allocation:', bestAllocation)"
   ]
  }
 ],
 "metadata": {
  "kernelspec": {
   "display_name": "cnn",
   "language": "python",
   "name": "cnn"
  },
  "language_info": {
   "codemirror_mode": {
    "name": "ipython",
    "version": 3
   },
   "file_extension": ".py",
   "mimetype": "text/x-python",
   "name": "python",
   "nbconvert_exporter": "python",
   "pygments_lexer": "ipython3",
   "version": "3.6.4"
  }
 },
 "nbformat": 4,
 "nbformat_minor": 2
}
